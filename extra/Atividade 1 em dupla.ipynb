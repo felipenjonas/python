{
 "cells": [
  {
   "cell_type": "code",
   "execution_count": 1,
   "id": "d3113e53-f35d-46bf-a594-6365a690324a",
   "metadata": {},
   "outputs": [
    {
     "name": "stdout",
     "output_type": "stream",
     "text": [
      "——————————————————————————————————————\n",
      "  1  |        4 x 400m Relay          \n",
      "——————————————————————————————————————\n",
      "  2  |       Average Lap Time         \n",
      "——————————————————————————————————————\n",
      "  3  |        & Overall Time          \n",
      "——————————————————————————————————————\n",
      "  4  |          Calculator            \n",
      "——————————————————————————————————————\n",
      "\n",
      "Alina completed a lap in 1:24\n",
      "Rafael completed a lap in 1:45\n",
      "Sid completed a lap in 1:33\n",
      "Suraya completed a lap in 1:39\n",
      "—————————————————————————————————————\n",
      "Times are expressed in minutes:seconds\n",
      "——————————————————————————————————————\n"
     ]
    }
   ],
   "source": [
    "from datetime import datetime, timedelta\n",
    "\n",
    "# Average Lap Time Calculator - www.101computing.net/average-lap-time-calculator\n",
    "\n",
    "print(\"——————————————————————————————————————\")\n",
    "print(\"  1  |        4 x 400m Relay          \")\n",
    "print(\"——————————————————————————————————————\")\n",
    "print(\"  2  |       Average Lap Time         \")\n",
    "print(\"——————————————————————————————————————\")\n",
    "print(\"  3  |        & Overall Time          \")\n",
    "print(\"——————————————————————————————————————\")\n",
    "print(\"  4  |          Calculator            \")\n",
    "print(\"——————————————————————————————————————\")\n",
    "print(\"\")\n",
    "\n",
    "runners = [\"Alina\",\"Rafael\",\"Sid\",\"Suraya\"]\n",
    "times = [\"1:24\",\"1:45\",\"1:33\",\"1:39\"]\n",
    "\n",
    "numberOfRunners = len(runners)\n",
    "\n",
    "for i in range(0,numberOfRunners):\n",
    "   print(runners[i] + \" completed a lap in \" + times[i])  \n",
    "  \n",
    "print(\"—————————————————————————————————————\")\n",
    "print(\"Times are expressed in minutes:seconds\")\n",
    "print(\"——————————————————————————————————————\")\n"
   ]
  },
  {
   "cell_type": "code",
   "execution_count": 2,
   "id": "a7a46996-e6ef-471f-b2c7-3b8183fece85",
   "metadata": {},
   "outputs": [
    {
     "name": "stdout",
     "output_type": "stream",
     "text": [
      "Total de tempo: 0:06:21 - Média de tempo: 0:01:35.250000\n"
     ]
    }
   ],
   "source": [
    "times_converted = [datetime.strptime(t, '%M:%S') for t in times]\n",
    "\n",
    "times_converted = [timedelta(minutes=t.minute, seconds=t.second) for t in times_converted]\n",
    "\n",
    "total = timedelta(seconds=0) \n",
    "\n",
    "for t in times_converted:\n",
    "    total += t\n",
    "\n",
    "media = total / numberOfRunners\n",
    "print(f\"Total de tempo: {total} - Média de tempo: {media}\")"
   ]
  }
 ],
 "metadata": {
  "kernelspec": {
   "display_name": "Python 3 (ipykernel)",
   "language": "python",
   "name": "python3"
  },
  "language_info": {
   "codemirror_mode": {
    "name": "ipython",
    "version": 3
   },
   "file_extension": ".py",
   "mimetype": "text/x-python",
   "name": "python",
   "nbconvert_exporter": "python",
   "pygments_lexer": "ipython3",
   "version": "3.10.12"
  }
 },
 "nbformat": 4,
 "nbformat_minor": 5
}
